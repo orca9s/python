{
 "cells": [
  {
   "cell_type": "code",
   "execution_count": 1,
   "metadata": {},
   "outputs": [
    {
     "data": {
      "text/plain": [
       "11"
      ]
     },
     "execution_count": 1,
     "metadata": {},
     "output_type": "execute_result"
    }
   ],
   "source": [
    "iu = '아이유는아이가아니에유'\n",
    "len(iu)"
   ]
  },
  {
   "cell_type": "code",
   "execution_count": 2,
   "metadata": {},
   "outputs": [
    {
     "data": {
      "text/plain": [
       "11"
      ]
     },
     "execution_count": 2,
     "metadata": {},
     "output_type": "execute_result"
    }
   ],
   "source": [
    "f = open('iu.txt', 'wt')\n",
    "f.write(iu)"
   ]
  },
  {
   "cell_type": "code",
   "execution_count": 3,
   "metadata": {},
   "outputs": [],
   "source": [
    "f.close()"
   ]
  },
  {
   "cell_type": "code",
   "execution_count": 4,
   "metadata": {},
   "outputs": [],
   "source": [
    "iu = '''\n",
    "2008년 9월 18일에 <미아>라는 하이브리드 팝이라는 다소 생소한 장르의 곡으로 Mnet 엠 카운트다운에서 데뷔했다. 이 음악이 실린 데뷔 음반 <Lost And Found>는 9월 23일에 발매가 되었다. 지금보다는 감성적인 표현이 부족한 편이었지만 중학생이라는 나이에 비해서 가창력이 뛰어났고 곡의 음악성도 높은 편으로[21], 적어도 리스너들 사이에서는 \"만만찮은 신인이 나타났다.\"는 인상을 주었다. '슬픈 발라드를 부르는 어린 여가수'라는 콘셉트로 데뷔했지만 대중들 사이에서는 대한민국 가요계에 아이돌 열풍이 막 불기 시작했기 때문에 자연스럽게 받아들이기 어려웠던 것 같다. 당시 낮은 인지도 탓에 곡과 예명이 바뀐 채 기사가 실리기도 했다. 때문에 아이유의 발랄한 이미지를 내세워서 2009년에 발표한 정규 1집 <Growing Up>에 실린 <Boo>라는 댄스곡으로 본인의 이미지를 변신해서 인지도를 얻었다. 2009년 11월에는 두번째 미니음반 <IU...IM>을 발매했고 〈마쉬멜로우〉라는 곡을 선보였다. 이때부터 아이돌 가수라는 칭호도 얻게 되었다. 인기도 상승하였다.'''\n",
    "f = open('iu.txt', 'wt')\n",
    "f.write(iu)\n",
    "f.close()"
   ]
  },
  {
   "cell_type": "code",
   "execution_count": 5,
   "metadata": {},
   "outputs": [
    {
     "data": {
      "text/plain": [
       "'\\n'"
      ]
     },
     "execution_count": 5,
     "metadata": {},
     "output_type": "execute_result"
    }
   ],
   "source": [
    "f = open('iu.txt', 'rt')\n",
    "f.readline()"
   ]
  },
  {
   "cell_type": "code",
   "execution_count": 6,
   "metadata": {},
   "outputs": [
    {
     "name": "stdout",
     "output_type": "stream",
     "text": [
      "0 \n",
      "\n",
      "1 2008년 9월 18일에 <미아>라는 하이브리드 팝이라는 다소 생소한 장르의 곡으로 Mnet 엠 카운트다운에서 데뷔했다. 이 음악이 실린 데뷔 음반 <Lost And Found>는 9월 23일에 발매가 되었다. 지금보다는 감성적인 표현이 부족한 편이었지만 중학생이라는 나이에 비해서 가창력이 뛰어났고 곡의 음악성도 높은 편으로[21], 적어도 리스너들 사이에서는 \"만만찮은 신인이 나타났다.\"는 인상을 주었다. '슬픈 발라드를 부르는 어린 여가수'라는 콘셉트로 데뷔했지만 대중들 사이에서는 대한민국 가요계에 아이돌 열풍이 막 불기 시작했기 때문에 자연스럽게 받아들이기 어려웠던 것 같다. 당시 낮은 인지도 탓에 곡과 예명이 바뀐 채 기사가 실리기도 했다. 때문에 아이유의 발랄한 이미지를 내세워서 2009년에 발표한 정규 1집 <Growing Up>에 실린 <Boo>라는 댄스곡으로 본인의 이미지를 변신해서 인지도를 얻었다. 2009년 11월에는 두번째 미니음반 <IU...IM>을 발매했고 〈마쉬멜로우〉라는 곡을 선보였다. 이때부터 아이돌 가수라는 칭호도 얻게 되었다. 인기도 상승하였다.\n"
     ]
    }
   ],
   "source": [
    "f = open('iu.txt', 'rt')\n",
    "for index, line in enumerate(f):\n",
    "    print(index, line)"
   ]
  },
  {
   "cell_type": "code",
   "execution_count": 7,
   "metadata": {},
   "outputs": [
    {
     "data": {
      "text/plain": [
       "'\\n'"
      ]
     },
     "execution_count": 7,
     "metadata": {},
     "output_type": "execute_result"
    }
   ],
   "source": [
    "f = open('iu.txt', 'rt')\n",
    "f.readline()"
   ]
  },
  {
   "cell_type": "code",
   "execution_count": 8,
   "metadata": {},
   "outputs": [],
   "source": [
    "with open('iu.txt', 'rt') as f:\n",
    "    f.read()\n",
    "    f.close()"
   ]
  }
 ],
 "metadata": {
  "kernelspec": {
   "display_name": "Python 3",
   "language": "python",
   "name": "python3"
  },
  "language_info": {
   "codemirror_mode": {
    "name": "ipython",
    "version": 3
   },
   "file_extension": ".py",
   "mimetype": "text/x-python",
   "name": "python",
   "nbconvert_exporter": "python",
   "pygments_lexer": "ipython3",
   "version": "3.6.5"
  }
 },
 "nbformat": 4,
 "nbformat_minor": 2
}
