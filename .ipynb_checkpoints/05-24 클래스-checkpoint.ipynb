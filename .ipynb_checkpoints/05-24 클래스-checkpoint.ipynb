{
 "cells": [
  {
   "cell_type": "code",
   "execution_count": 1,
   "metadata": {},
   "outputs": [],
   "source": [
    "class Shop:\n",
    "    def __init__(self, name, shop_type, addr):\n",
    "        self.name = name\n",
    "        self._shop_type = shop_type\n",
    "        self.addr = addr\n",
    "    def show_info(self):\n",
    "        print('상점정보: ({})'.format(self.name))\n",
    "        print('유형: {}'.format(self._shop_type))\n",
    "        print('주소: {}'.format(self.addr))\n",
    "        # 인스턴스의 shop_type속성을 새로 주어진 new매개변수에  전달된 값으로 변경\n",
    "    def change_type(self, new):\n",
    "        self._shop_type = new\n",
    "        #getter방식\n",
    "    def get_shop_type(self):\n",
    "        return self._shop_type\n",
    "    #metter방식\n",
    "    def set_shop_type(self, new):\n",
    "        shop_type_list = ['레스토랑', '패스트푸드']\n",
    "        if new in shop_type_list:\n",
    "            self._shop_type = new\n",
    "        else:\n",
    "            print(f'입력하신 유형({new})은 사용할 수 없습니다')\n",
    "    @property\n",
    "    def shop_type(self):\n",
    "        return self._shop_type\n",
    "    \n",
    "    @shop_type.setter\n",
    "    def shop_type(self, new):\n",
    "        self._shop_type = new\n",
    "        print('Set new name ({})'.format(self._shop_type))\n",
    "        "
   ]
  },
  {
   "cell_type": "code",
   "execution_count": 3,
   "metadata": {},
   "outputs": [],
   "source": [
    "lotteria = Shop('롯데리아', '패스트푸드', '서울시 강남구')"
   ]
  },
  {
   "cell_type": "code",
   "execution_count": 4,
   "metadata": {},
   "outputs": [],
   "source": [
    "burgerking = Shop(addr= '서울시 강남구',  shop_type= '패스트푸드', name='버거킹')"
   ]
  },
  {
   "cell_type": "code",
   "execution_count": 5,
   "metadata": {},
   "outputs": [],
   "source": [
    "mcdonald = Shop(\"맥도날드\", '패스트푸드', '서울시 강남구')"
   ]
  },
  {
   "cell_type": "code",
   "execution_count": 6,
   "metadata": {},
   "outputs": [
    {
     "data": {
      "text/plain": [
       "'롯데리아'"
      ]
     },
     "execution_count": 6,
     "metadata": {},
     "output_type": "execute_result"
    }
   ],
   "source": [
    "lotteria.name"
   ]
  },
  {
   "cell_type": "code",
   "execution_count": 7,
   "metadata": {},
   "outputs": [
    {
     "name": "stdout",
     "output_type": "stream",
     "text": [
      "입력하신 유형(한식)은 사용할 수 없습니다\n"
     ]
    },
    {
     "data": {
      "text/plain": [
       "'패스트푸드'"
      ]
     },
     "execution_count": 7,
     "metadata": {},
     "output_type": "execute_result"
    }
   ],
   "source": [
    "lotteria.set_shop_type('한식')\n",
    "lotteria.shop_type"
   ]
  },
  {
   "cell_type": "code",
   "execution_count": 8,
   "metadata": {},
   "outputs": [
    {
     "name": "stdout",
     "output_type": "stream",
     "text": [
      "Set new name (오락실)\n"
     ]
    }
   ],
   "source": [
    "lotteria.shop_type = '오락실'"
   ]
  },
  {
   "cell_type": "code",
   "execution_count": 9,
   "metadata": {},
   "outputs": [
    {
     "data": {
      "text/plain": [
       "'버거킹'"
      ]
     },
     "execution_count": 9,
     "metadata": {},
     "output_type": "execute_result"
    }
   ],
   "source": [
    "burgerking.name"
   ]
  },
  {
   "cell_type": "code",
   "execution_count": 10,
   "metadata": {},
   "outputs": [
    {
     "data": {
      "text/plain": [
       "'맥도날드'"
      ]
     },
     "execution_count": 10,
     "metadata": {},
     "output_type": "execute_result"
    }
   ],
   "source": [
    "mcdonald.name"
   ]
  },
  {
   "cell_type": "code",
   "execution_count": 11,
   "metadata": {},
   "outputs": [
    {
     "name": "stdout",
     "output_type": "stream",
     "text": [
      "식당정보: (롯데리아)\n",
      "유형: 오락실\n",
      "주소: 서울시 강남구\n"
     ]
    }
   ],
   "source": [
    "lotteria.show_info()"
   ]
  },
  {
   "cell_type": "code",
   "execution_count": 12,
   "metadata": {},
   "outputs": [
    {
     "name": "stdout",
     "output_type": "stream",
     "text": [
      "상점정보: (버거킹)\n",
      "유형: 패스트푸드\n",
      "주소: 서울시 강남구\n"
     ]
    }
   ],
   "source": [
    "burgerking.show_info()"
   ]
  },
  {
   "cell_type": "code",
   "execution_count": 13,
   "metadata": {},
   "outputs": [
    {
     "name": "stdout",
     "output_type": "stream",
     "text": [
      "상점정보: (맥도날드)\n",
      "유형: 패스트푸드\n",
      "주소: 서울시 강남구\n"
     ]
    }
   ],
   "source": [
    "mcdonald.show_info()"
   ]
  },
  {
   "cell_type": "code",
   "execution_count": 14,
   "metadata": {},
   "outputs": [],
   "source": [
    "lotteria.change_type('한식')\n"
   ]
  },
  {
   "cell_type": "code",
   "execution_count": 15,
   "metadata": {},
   "outputs": [
    {
     "name": "stdout",
     "output_type": "stream",
     "text": [
      "식당정보: (롯데리아)\n",
      "유형: 한식\n",
      "주소: 서울시 강남구\n"
     ]
    }
   ],
   "source": [
    "lotteria.show_info()"
   ]
  },
  {
   "cell_type": "code",
   "execution_count": 16,
   "metadata": {},
   "outputs": [],
   "source": [
    "class User:\n",
    "    def __init__(self, name):\n",
    "        self.name = name\n",
    "        self.money = 0\n",
    "    def add_money(self, amount):\n",
    "        self.money+=amount\n",
    "        print('소지금이{}만큼 증가하였다!'.format(amount))\n",
    "        \n",
    "    def sell_item(self):\n",
    "        self.add_money (100)\n",
    "    def kill_monster(self):\n",
    "        self.money +=50"
   ]
  },
  {
   "cell_type": "code",
   "execution_count": 17,
   "metadata": {},
   "outputs": [],
   "source": [
    "me = User ('전상민')"
   ]
  },
  {
   "cell_type": "code",
   "execution_count": 18,
   "metadata": {},
   "outputs": [
    {
     "data": {
      "text/plain": [
       "<__main__.User at 0x1107f3e10>"
      ]
     },
     "execution_count": 18,
     "metadata": {},
     "output_type": "execute_result"
    }
   ],
   "source": [
    "me"
   ]
  },
  {
   "cell_type": "code",
   "execution_count": 19,
   "metadata": {},
   "outputs": [
    {
     "data": {
      "text/plain": [
       "0"
      ]
     },
     "execution_count": 19,
     "metadata": {},
     "output_type": "execute_result"
    }
   ],
   "source": [
    "me.money"
   ]
  },
  {
   "cell_type": "code",
   "execution_count": 26,
   "metadata": {},
   "outputs": [
    {
     "name": "stdout",
     "output_type": "stream",
     "text": [
      "소지금이100만큼 증가하였다!\n"
     ]
    },
    {
     "data": {
      "text/plain": [
       "500"
      ]
     },
     "execution_count": 26,
     "metadata": {},
     "output_type": "execute_result"
    }
   ],
   "source": [
    "me.sell_item()\n",
    "me.money"
   ]
  },
  {
   "cell_type": "code",
   "execution_count": 29,
   "metadata": {},
   "outputs": [],
   "source": [
    "class User:\n",
    "    def __init__(self, name):\n",
    "        self.name = name\n",
    "        self.atk = 0\n",
    "        self.defense = 0\n",
    "        \n",
    "    def equip(self, item):\n",
    "        item.use(self)\n",
    "        \n",
    "    def __repr__(self):\n",
    "        return f'{self.name} {atk: {self.atk}, def: {slef.defense} }'"
   ]
  },
  {
   "cell_type": "code",
   "execution_count": 31,
   "metadata": {},
   "outputs": [],
   "source": [
    "class Sword:\n",
    "    def use(self, user):\n",
    "        user.atk += 10\n",
    "class Shield:\n",
    "    def use(self, user):\n",
    "        user.defense += 10"
   ]
  },
  {
   "cell_type": "code",
   "execution_count": 33,
   "metadata": {},
   "outputs": [],
   "source": [
    "jsm = User('전상민')"
   ]
  },
  {
   "cell_type": "code",
   "execution_count": 35,
   "metadata": {},
   "outputs": [],
   "source": [
    "sword1 = Sword()\n",
    "shield = Shield()"
   ]
  },
  {
   "cell_type": "code",
   "execution_count": 37,
   "metadata": {},
   "outputs": [],
   "source": [
    "jsm.equip(sword1)"
   ]
  }
 ],
 "metadata": {
  "kernelspec": {
   "display_name": "Python 3",
   "language": "python",
   "name": "python3"
  },
  "language_info": {
   "codemirror_mode": {
    "name": "ipython",
    "version": 3
   },
   "file_extension": ".py",
   "mimetype": "text/x-python",
   "name": "python",
   "nbconvert_exporter": "python",
   "pygments_lexer": "ipython3",
   "version": "3.6.5"
  }
 },
 "nbformat": 4,
 "nbformat_minor": 2
}
