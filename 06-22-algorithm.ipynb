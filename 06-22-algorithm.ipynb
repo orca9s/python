{
 "cells": [
  {
   "cell_type": "markdown",
   "metadata": {},
   "source": [
    "import random\n",
    "\n",
    "실제로 우리가 정렬할 리스트\n",
    "numbers = list()\n",
    "\n"
   ]
  },
  {
   "cell_type": "markdown",
   "metadata": {},
   "source": [
    "numbers = list()\n",
    "for i in range(10):\n",
    "    # 0~99까지 임의의 정수를 10개 갖는 리스트 새성\n",
    "    # 어떤 값이 들어올지 모르기 때문에 정렬이 안되면 다 드러남\n",
    "    numbers.append(random.randrange(100))\n",
    "    # function analysis\n",
    "    # name : selelction_sort()\n",
    "    # input(parameters) : (list)numbers(unsorted)\n",
    "    # output(return) : (list)numbers(sorted)\n",
    "    # local variables : 현재 단계에서는 이것을 생각하는 것이 중요중요!\n",
    "    # (1) 리스트의 크기(개수) - length\n",
    "    # (2) 현재 비교할 리스트의 인덱스 2개 - i, j\n",
    "    # (3) 현재 loop단계에서 가장 작은 값을 가리키는 index - min_index\n",
    "    \n",
    "    \n",
    "    # 구현을 위해 내가 알아야할 코드\n",
    "    # loop : for, range(), \n",
    "    # swap : 바꿔주는 함수: a, b = b, a\n"
   ]
  },
  {
   "cell_type": "code",
   "execution_count": 1,
   "metadata": {},
   "outputs": [
    {
     "name": "stdout",
     "output_type": "stream",
     "text": [
      "[7, 20, 40, 41, 42, 42, 48, 80, 81, 99]\n"
     ]
    }
   ],
   "source": [
    "import random\n",
    "numbers = list()\n",
    "for i in range(10):\n",
    "    numbers.append(random.randrange(100))\n",
    "    \n",
    "def selection_sort(a):\n",
    "    length = len(a)\n",
    "    for i in range(length - 1):\n",
    "        min_index = i\n",
    "        for j in range(i+1, length):\n",
    "            if a[j] < a[min_index]:\n",
    "                min_index = j\n",
    "        if min_index != i:\n",
    "            a[min_index], a[i] = a[i], a[min_index]\n",
    "    return(numbers)\n",
    "print(selection_sort(numbers))\n",
    "            \n",
    "#     for i in range(len())\n",
    "#     return i\n",
    "# print(selection_sort(numbers))"
   ]
  }
 ],
 "metadata": {
  "kernelspec": {
   "display_name": "Python 3",
   "language": "python",
   "name": "python3"
  },
  "language_info": {
   "codemirror_mode": {
    "name": "ipython",
    "version": 3
   },
   "file_extension": ".py",
   "mimetype": "text/x-python",
   "name": "python",
   "nbconvert_exporter": "python",
   "pygments_lexer": "ipython3",
   "version": "3.6.5"
  }
 },
 "nbformat": 4,
 "nbformat_minor": 2
}
