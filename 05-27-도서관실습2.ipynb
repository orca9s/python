{
 "cells": [
  {
   "cell_type": "code",
   "execution_count": 1,
   "metadata": {},
   "outputs": [],
   "source": [
    "class Library:\n",
    "    def __init__(self, name, book_list = 5):\n",
    "        self.name = name\n",
    "        self.book_list = book_list\n",
    "    def add_book(self, user):\n",
    "        if self.book_list < 10:\n",
    "            self.book_list +=1\n",
    "            user.book_list -=1\n",
    "            print('책이 반납 되었습니다..\\n도서관 보유:{}권\\n고객 대여중:{}권'.format(self.book_list, user.book_list))\n",
    "        \n",
    "        else:\n",
    "            print('모든 책이 반납 되었습니다..')\n",
    "            print('도서관 보유:{}권\\n고객 대여중:{}권'.format(self.book_list, user.book_list))\n",
    "            \n",
    "    def library_info(self):\n",
    "        return print('도서관 이름:{}\\n고객 대여중:{}권\\n도서관 보유:{}권'.format(self.name, 10-self.book_list, self.book_list))\n",
    "        \n",
    "class Book:\n",
    "    def __init__(self, title, location):\n",
    "        self.title = title\n",
    "        self.location = location\n",
    "        \n",
    "class User:\n",
    "    def __init__(self, uname, book_list = 5):\n",
    "        self.uname = uname\n",
    "        self.book_list = book_list\n",
    "    def borrow_book(self, library):\n",
    "        if self.book_list < 10:\n",
    "            library.book_list -=1\n",
    "            self.book_list +=1\n",
    "            print('책을 빌렸습니다.\\n 대여중:{}\\n 대여가능:{}'.format(self.book_list, library.book_list))\n",
    "        else:\n",
    "            print('모든 책이 대여중입니다.')\n",
    "            print('도서관 보유:{}권\\n고객 대여중:{}권'.format(library.book_list, self.book_list))\n",
    "    def show_info(self):\n",
    "        return print('고객 이름:{}\\n현재 대여중인 책:{}권'.format(self.uname, self.book_list))\n",
    "    "
   ]
  },
  {
   "cell_type": "code",
   "execution_count": 2,
   "metadata": {},
   "outputs": [],
   "source": [
    "place = Library('강남구립 도서관')"
   ]
  },
  {
   "cell_type": "code",
   "execution_count": 3,
   "metadata": {},
   "outputs": [],
   "source": [
    "cs = User('전상민')"
   ]
  },
  {
   "cell_type": "code",
   "execution_count": 11,
   "metadata": {},
   "outputs": [
    {
     "name": "stdout",
     "output_type": "stream",
     "text": [
      "책이 반납 되었습니다..\n",
      "도서관 보유:9권\n",
      "고객 대여중:1권\n"
     ]
    }
   ],
   "source": [
    "place.add_book(cs)"
   ]
  },
  {
   "cell_type": "code",
   "execution_count": 12,
   "metadata": {},
   "outputs": [
    {
     "name": "stdout",
     "output_type": "stream",
     "text": [
      "책을 빌렸습니다.\n",
      " 대여중:2\n",
      " 대여가능:8\n"
     ]
    }
   ],
   "source": [
    "cs.borrow_book(place)"
   ]
  },
  {
   "cell_type": "code",
   "execution_count": 13,
   "metadata": {},
   "outputs": [
    {
     "name": "stdout",
     "output_type": "stream",
     "text": [
      "도서관 이름:강남구립 도서관\n",
      "고객 대여중:2권\n",
      "도서관 보유:8권\n"
     ]
    }
   ],
   "source": [
    "place.library_info()"
   ]
  },
  {
   "cell_type": "code",
   "execution_count": 16,
   "metadata": {},
   "outputs": [
    {
     "name": "stdout",
     "output_type": "stream",
     "text": [
      "고객 이름:전상민\n",
      "현재 대여중인 책:2권\n"
     ]
    }
   ],
   "source": [
    "cs.show_info()"
   ]
  }
 ],
 "metadata": {
  "kernelspec": {
   "display_name": "Python 3",
   "language": "python",
   "name": "python3"
  },
  "language_info": {
   "codemirror_mode": {
    "name": "ipython",
    "version": 3
   },
   "file_extension": ".py",
   "mimetype": "text/x-python",
   "name": "python",
   "nbconvert_exporter": "python",
   "pygments_lexer": "ipython3",
   "version": "3.6.5"
  }
 },
 "nbformat": 4,
 "nbformat_minor": 2
}
