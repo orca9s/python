{
 "cells": [
  {
   "cell_type": "code",
   "execution_count": 8,
   "metadata": {},
   "outputs": [],
   "source": [
    "class Library:\n",
    "    def __init__(self, name, book_list):\n",
    "        self.name = name\n",
    "        self.book_list = book_list\n",
    "    def add_book(self, title):\n",
    "        \"\"\"\n",
    "        이 Library에 새 Book을 추가\n",
    "        \"\"\"\n",
    "        new_book = Book(title, self)\n",
    "        self.book_list.append(new_book)\n",
    "        print('{}에 책({})이 추가되었습니다.'.format(self.name, title,))\n",
    "        \n",
    "    def remove_book(self):\n",
    "        pass\n",
    "    \n",
    "    \n",
    "    @property\n",
    "    def info(self):\n",
    "#         info_str = ''\n",
    "#         info_str += '{}\\n'.format(self.name)\n",
    "#         info_str += '보유중인 도서 수:{}권\\n'.format(len(self.book_list))\n",
    "#         info_str += '도서 목록\\n'\n",
    "#         for book in self.book_list:\n",
    "#             info_str += '    - {}\\n'.format(book.title)\n",
    "#         return info_str\n",
    "            \n",
    "        return (\n",
    "            '{name}\\n'\n",
    "            '보유중인 도서 수: {num_books}권\\n'\n",
    "            '도서목록\\n'\n",
    "            '{book_list_str}'.format(\n",
    "                name = self. name,\n",
    "                num_books = len(self.book_list),\n",
    "                book_list_str = '\\n'.join([f'   -{book.title}' for book in self.book_list])\n",
    "            )\n",
    "        )\n",
    "#         return (\n",
    "#             '{}\\n보유중인 도서 수:{}권\\n도서목록:\\n{}'.format(self.name,len(self.book_list), )\n",
    "#         )\n",
    "\n",
    "    \n",
    "    \n",
    "class Book:\n",
    "    def __init__(self, title, location):\n",
    "        self.title = title\n",
    "        self.location = location\n",
    "        \n",
    "        \n",
    "    @property\n",
    "    def is_borrowed(self):\n",
    "        return isinstance(self, location, User)\n",
    "    \n",
    "class User:\n",
    "    def __init__(self, name, book_list):\n",
    "        self.name = name\n",
    "        self.book_list = book_list\n",
    "    def borrow_book(self, library, book_name):\n",
    "        #library의 book_list를 순회\n",
    "#         for book in library.book_list:\n",
    "#             #빌리려는 책 이름이 순회중인 book인스턴스의 title과 같으면\n",
    "#             if book_name == book.title:\n",
    "#                 #자신의 book_list에 해당 book인스턴스를 추가하며\n",
    "#                 #library의 book_list에서 해당 book인스턴스를 삭제\n",
    "#                 self.book_list.append(book)\n",
    "#                 library.book_list.remove(book)\n",
    "#                 print(f'\"{book_name}\"을 {library.name}에서 빌렸습니다.')\n",
    "#                 break\n",
    "#         else:\n",
    "#             print(f'{library.name}에는 {book_name}이 없습니다.')\n",
    "        for book in library.book_list:\n",
    "            if book_name == book.title:\n",
    "                self.book_list.append(book)\n",
    "                library.book_list.remove(book)\n",
    "                print(f'\"{book_name}\"을 {library.name}에서 빌렸습니다.')\n",
    "                break\n",
    "            print(f'{library.name}에는 \"{book_name}\"이 없습니다.')\n",
    "            break\n",
    "        print('-책 빌리기 함수 완료')\n",
    "                \n",
    "    def return_book(self, library, book_name):\n",
    "            pass\n",
    "        \n",
    "    @property\n",
    "    def info(self):\n",
    "                return (\n",
    "            '{name}\\n'\n",
    "            '빌린 도서 수: {num_books}권\\n'\n",
    "            '도서목록\\n'\n",
    "            '{book_list_str}'.format(\n",
    "                name = self. name,\n",
    "                num_books = len(self.book_list),\n",
    "                book_list_str = '\\n'.join([f'   -{book.title}' for book in self.book_list])\n",
    "            )\n",
    "        )"
   ]
  },
  {
   "cell_type": "code",
   "execution_count": 9,
   "metadata": {},
   "outputs": [],
   "source": [
    "seogsu_Library = Library('성수 도서관', [])"
   ]
  },
  {
   "cell_type": "code",
   "execution_count": 10,
   "metadata": {},
   "outputs": [
    {
     "name": "stdout",
     "output_type": "stream",
     "text": [
      "성수 도서관에 책(처음 시작하는 파이썬)이 추가되었습니다.\n",
      "성수 도서관에 책(전문가를 위한 파이썬)이 추가되었습니다.\n",
      "성수 도서관에 책(Effective Python)이 추가되었습니다.\n"
     ]
    }
   ],
   "source": [
    "seogsu_Library.add_book('처음 시작하는 파이썬')\n",
    "seogsu_Library.add_book('전문가를 위한 파이썬')\n",
    "seogsu_Library.add_book('Effective Python')"
   ]
  },
  {
   "cell_type": "code",
   "execution_count": 11,
   "metadata": {},
   "outputs": [
    {
     "name": "stdout",
     "output_type": "stream",
     "text": [
      "성수 도서관\n",
      "보유중인 도서 수: 3권\n",
      "도서목록\n",
      "   -처음 시작하는 파이썬\n",
      "   -전문가를 위한 파이썬\n",
      "   -Effective Python\n"
     ]
    }
   ],
   "source": [
    "print(seogsu_Library.info)"
   ]
  },
  {
   "cell_type": "code",
   "execution_count": 12,
   "metadata": {},
   "outputs": [],
   "source": [
    "lhy = User('이한영', [])"
   ]
  },
  {
   "cell_type": "code",
   "execution_count": 15,
   "metadata": {},
   "outputs": [
    {
     "name": "stdout",
     "output_type": "stream",
     "text": [
      "성수 도서관에는 \"경제학 입문\"이 없습니다.\n",
      "-책 빌리기 함수 완료\n"
     ]
    }
   ],
   "source": [
    "lhy.borrow_book(seogsu_Library,'경제학 입문')"
   ]
  },
  {
   "cell_type": "code",
   "execution_count": 16,
   "metadata": {},
   "outputs": [
    {
     "name": "stdout",
     "output_type": "stream",
     "text": [
      "\"처음 시작하는 파이썬\"을 성수 도서관에서 빌렸습니다.\n",
      "-책 빌리기 함수 완료\n"
     ]
    }
   ],
   "source": [
    "lhy.borrow_book(seogsu_Library,'처음 시작하는 파이썬')"
   ]
  },
  {
   "cell_type": "code",
   "execution_count": 17,
   "metadata": {},
   "outputs": [
    {
     "name": "stdout",
     "output_type": "stream",
     "text": [
      "이한영\n",
      "빌린 도서 수: 1권\n",
      "도서목록\n",
      "   -처음 시작하는 파이썬\n"
     ]
    }
   ],
   "source": [
    "print(lhy.info)"
   ]
  }
 ],
 "metadata": {
  "kernelspec": {
   "display_name": "Python 3",
   "language": "python",
   "name": "python3"
  },
  "language_info": {
   "codemirror_mode": {
    "name": "ipython",
    "version": 3
   },
   "file_extension": ".py",
   "mimetype": "text/x-python",
   "name": "python",
   "nbconvert_exporter": "python",
   "pygments_lexer": "ipython3",
   "version": "3.6.5"
  }
 },
 "nbformat": 4,
 "nbformat_minor": 2
}
