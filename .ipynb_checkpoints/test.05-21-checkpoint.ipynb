{
 "cells": [
  {
   "cell_type": "code",
   "execution_count": 3,
   "metadata": {},
   "outputs": [
    {
     "ename": "SyntaxError",
     "evalue": "invalid syntax (<ipython-input-3-ec13b45a7876>, line 1)",
     "output_type": "error",
     "traceback": [
      "\u001b[0;36m  File \u001b[0;32m\"<ipython-input-3-ec13b45a7876>\"\u001b[0;36m, line \u001b[0;32m1\u001b[0m\n\u001b[0;31m    for i in range(1,6)\u001b[0m\n\u001b[0m                       ^\u001b[0m\n\u001b[0;31mSyntaxError\u001b[0m\u001b[0;31m:\u001b[0m invalid syntax\n"
     ]
    }
   ],
   "source": [
    "for i in range(1,6)"
   ]
  },
  {
   "cell_type": "code",
   "execution_count": 4,
   "metadata": {},
   "outputs": [
    {
     "ename": "SyntaxError",
     "evalue": "invalid syntax (<ipython-input-4-4677ae55d91e>, line 1)",
     "output_type": "error",
     "traceback": [
      "\u001b[0;36m  File \u001b[0;32m\"<ipython-input-4-4677ae55d91e>\"\u001b[0;36m, line \u001b[0;32m1\u001b[0m\n\u001b[0;31m    for i in range (1,6)\u001b[0m\n\u001b[0m                        ^\u001b[0m\n\u001b[0;31mSyntaxError\u001b[0m\u001b[0;31m:\u001b[0m invalid syntax\n"
     ]
    }
   ],
   "source": [
    "for i in range (1,6)"
   ]
  },
  {
   "cell_type": "code",
   "execution_count": 9,
   "metadata": {},
   "outputs": [
    {
     "name": "stdout",
     "output_type": "stream",
     "text": [
      "0\n",
      "1\n",
      "2\n",
      "3\n",
      "4\n",
      "5\n"
     ]
    }
   ],
   "source": [
    "for i in range (6):\n",
    "    print(i)"
   ]
  },
  {
   "cell_type": "code",
   "execution_count": 11,
   "metadata": {},
   "outputs": [
    {
     "name": "stdout",
     "output_type": "stream",
     "text": [
      "0\n",
      "1\n",
      "2\n",
      "3\n"
     ]
    }
   ],
   "source": [
    "for y in range(4):\n",
    "    print(y)"
   ]
  },
  {
   "cell_type": "code",
   "execution_count": 13,
   "metadata": {},
   "outputs": [
    {
     "name": "stdout",
     "output_type": "stream",
     "text": [
      "0 0\n",
      "0 1\n",
      "0 2\n",
      "0 3\n",
      "0 4\n",
      "0 5\n",
      "0 6\n"
     ]
    }
   ],
   "source": [
    "for i in range(7):\n",
    "    print (0, i)"
   ]
  },
  {
   "cell_type": "code",
   "execution_count": 17,
   "metadata": {},
   "outputs": [
    {
     "name": "stdout",
     "output_type": "stream",
     "text": [
      "0 , 0\n",
      "0 , 1\n",
      "0 , 2\n",
      "0 , 3\n",
      "0 , 4\n",
      "0 , 5\n",
      "0 , 6\n"
     ]
    }
   ],
   "source": [
    "for i in range(7):\n",
    "    print(0,\",\",i)"
   ]
  },
  {
   "cell_type": "code",
   "execution_count": 19,
   "metadata": {},
   "outputs": [
    {
     "name": "stdout",
     "output_type": "stream",
     "text": [
      "(6, 0)\n",
      "(6, 1)\n",
      "(6, 2)\n",
      "(6, 3)\n"
     ]
    }
   ],
   "source": [
    "for y in range(4):\n",
    "    print(f'({i}, {y})')\n",
    "    "
   ]
  },
  {
   "cell_type": "code",
   "execution_count": 31,
   "metadata": {},
   "outputs": [
    {
     "name": "stdout",
     "output_type": "stream",
     "text": [
      "0 0\n",
      "0 1\n",
      "0 2\n",
      "0 3\n",
      "2 0\n",
      "2 1\n",
      "2 2\n",
      "2 3\n",
      "4 0\n",
      "4 1\n",
      "4 2\n",
      "4 3\n"
     ]
    }
   ],
   "source": [
    "for i in range(6):\n",
    "    for j in range(4):\n",
    "        if  i%2 ==0:\n",
    "            print(i,j)"
   ]
  },
  {
   "cell_type": "code",
   "execution_count": 38,
   "metadata": {},
   "outputs": [
    {
     "data": {
      "text/plain": [
       "[(0, 0),\n",
       " (0, 1),\n",
       " (0, 2),\n",
       " (0, 3),\n",
       " (2, 0),\n",
       " (2, 1),\n",
       " (2, 2),\n",
       " (2, 3),\n",
       " (4, 0),\n",
       " (4, 1),\n",
       " (4, 2),\n",
       " (4, 3),\n",
       " (6, 0),\n",
       " (6, 1),\n",
       " (6, 2),\n",
       " (6, 3)]"
      ]
     },
     "execution_count": 38,
     "metadata": {},
     "output_type": "execute_result"
    }
   ],
   "source": [
    "[(i,j) for i in range(7) for j in range(4) if i%2 ==0]"
   ]
  },
  {
   "cell_type": "code",
   "execution_count": 29,
   "metadata": {},
   "outputs": [
    {
     "data": {
      "text/plain": [
       "['(0,0)',\n",
       " '(0,1)',\n",
       " '(0,2)',\n",
       " '(0,3)',\n",
       " '(1,0)',\n",
       " '(1,1)',\n",
       " '(1,2)',\n",
       " '(1,3)',\n",
       " '(2,0)',\n",
       " '(2,1)',\n",
       " '(2,2)',\n",
       " '(2,3)',\n",
       " '(3,0)',\n",
       " '(3,1)',\n",
       " '(3,2)',\n",
       " '(3,3)',\n",
       " '(4,0)',\n",
       " '(4,1)',\n",
       " '(4,2)',\n",
       " '(4,3)',\n",
       " '(5,0)',\n",
       " '(5,1)',\n",
       " '(5,2)',\n",
       " '(5,3)',\n",
       " '(6,0)',\n",
       " '(6,1)',\n",
       " '(6,2)',\n",
       " '(6,3)']"
      ]
     },
     "execution_count": 29,
     "metadata": {},
     "output_type": "execute_result"
    }
   ],
   "source": [
    "['({},{})'.format(i,j) for i in range(7) for j in range(4) ]"
   ]
  },
  {
   "cell_type": "code",
   "execution_count": 50,
   "metadata": {},
   "outputs": [
    {
     "name": "stdout",
     "output_type": "stream",
     "text": [
      "750000\n"
     ]
    }
   ],
   "source": [
    "\n",
    "x = sum(range(1001,2000,2))\n",
    "print(x)"
   ]
  },
  {
   "cell_type": "code",
   "execution_count": 77,
   "metadata": {},
   "outputs": [
    {
     "ename": "IndentationError",
     "evalue": "unexpected indent (<ipython-input-77-4c5a75653bec>, line 2)",
     "output_type": "error",
     "traceback": [
      "\u001b[0;36m  File \u001b[0;32m\"<ipython-input-77-4c5a75653bec>\"\u001b[0;36m, line \u001b[0;32m2\u001b[0m\n\u001b[0;31m    for x in range(2, 10):\u001b[0m\n\u001b[0m    ^\u001b[0m\n\u001b[0;31mIndentationError\u001b[0m\u001b[0;31m:\u001b[0m unexpected indent\n"
     ]
    }
   ],
   "source": [
    "result = []\n",
    "    for x in range(2, 10):\n",
    "        for y in range(1, 10):\n",
    "            result.append(f'{x} x {y} = {x *  y}')"
   ]
  },
  {
   "cell_type": "code",
   "execution_count": 78,
   "metadata": {},
   "outputs": [],
   "source": [
    "result2 = [x*y for x in range(2,10) for y in range(1,10)]"
   ]
  },
  {
   "cell_type": "code",
   "execution_count": 83,
   "metadata": {},
   "outputs": [
    {
     "name": "stdout",
     "output_type": "stream",
     "text": [
      "==2단\n",
      "2x1=2\n",
      "2x2=4\n",
      "2x3=6\n",
      "2x4=8\n",
      "2x5=10\n",
      "2x6=12\n",
      "2x7=14\n",
      "2x8=16\n",
      "2x9=18\n",
      "\n",
      "==3단\n",
      "3x1=3\n",
      "3x2=6\n",
      "3x3=9\n",
      "3x4=12\n",
      "3x5=15\n",
      "3x6=18\n",
      "3x7=21\n",
      "3x8=24\n",
      "3x9=27\n",
      "\n",
      "==4단\n",
      "4x1=4\n",
      "4x2=8\n",
      "4x3=12\n",
      "4x4=16\n",
      "4x5=20\n",
      "4x6=24\n",
      "4x7=28\n",
      "4x8=32\n",
      "4x9=36\n",
      "\n",
      "==5단\n",
      "5x1=5\n",
      "5x2=10\n",
      "5x3=15\n",
      "5x4=20\n",
      "5x5=25\n",
      "5x6=30\n",
      "5x7=35\n",
      "5x8=40\n",
      "5x9=45\n",
      "\n",
      "==6단\n",
      "6x1=6\n",
      "6x2=12\n",
      "6x3=18\n",
      "6x4=24\n",
      "6x5=30\n",
      "6x6=36\n",
      "6x7=42\n",
      "6x8=48\n",
      "6x9=54\n",
      "\n",
      "==7단\n",
      "7x1=7\n",
      "7x2=14\n",
      "7x3=21\n",
      "7x4=28\n",
      "7x5=35\n",
      "7x6=42\n",
      "7x7=49\n",
      "7x8=56\n",
      "7x9=63\n",
      "\n",
      "==8단\n",
      "8x1=8\n",
      "8x2=16\n",
      "8x3=24\n",
      "8x4=32\n",
      "8x5=40\n",
      "8x6=48\n",
      "8x7=56\n",
      "8x8=64\n",
      "8x9=72\n",
      "\n",
      "==9단\n",
      "9x1=9\n",
      "9x2=18\n",
      "9x3=27\n",
      "9x4=36\n",
      "9x5=45\n",
      "9x6=54\n",
      "9x7=63\n",
      "9x8=72\n",
      "9x9=81\n",
      "\n"
     ]
    }
   ],
   "source": [
    "dan = 2\n",
    "for x in range(len(result2)):\n",
    "    if x%9 == 0:\n",
    "        print('=={}단'.format(dan))\n",
    "    print('{}x{}={}'.format(dan,(x%9)+1,result2[x]))\n",
    "    if x%9 == 8:\n",
    "        print()\n",
    "        dan+=1"
   ]
  },
  {
   "cell_type": "code",
   "execution_count": 97,
   "metadata": {},
   "outputs": [
    {
     "name": "stdout",
     "output_type": "stream",
     "text": [
      "[7, 9, 14, 18, 21, 27, 28, 35, 36, 42, 45, 49, 54, 56, 63, 70, 72, 77, 81, 84, 90, 91, 98, 99]\n"
     ]
    }
   ],
   "source": [
    "result = []\n",
    "for i in range(1,100):\n",
    "    if i %7 == 0 or i % 9 ==0:\n",
    "        result.append(i)\n",
    "print(result)"
   ]
  },
  {
   "cell_type": "code",
   "execution_count": 98,
   "metadata": {},
   "outputs": [
    {
     "data": {
      "text/plain": [
       "[7,\n",
       " 9,\n",
       " 14,\n",
       " 18,\n",
       " 21,\n",
       " 27,\n",
       " 28,\n",
       " 35,\n",
       " 36,\n",
       " 42,\n",
       " 45,\n",
       " 49,\n",
       " 54,\n",
       " 56,\n",
       " 63,\n",
       " 70,\n",
       " 72,\n",
       " 77,\n",
       " 81,\n",
       " 84,\n",
       " 90,\n",
       " 91,\n",
       " 98,\n",
       " 99]"
      ]
     },
     "execution_count": 98,
     "metadata": {},
     "output_type": "execute_result"
    }
   ],
   "source": [
    "[i for i in range(1,100) if i%7==0 or i%9 == 0]"
   ]
  },
  {
   "cell_type": "code",
   "execution_count": 100,
   "metadata": {},
   "outputs": [
    {
     "name": "stdout",
     "output_type": "stream",
     "text": [
      "['1x1 =1', '1x2 =2', '1x3 =3', '1x4 =4', '1x5 =5', '1x6 =6', '1x7 =7', '1x8 =8', '1x9 =9', '2x1 =2', '2x2 =4', '2x3 =6', '2x4 =8', '2x5 =10', '2x6 =12', '2x7 =14', '2x8 =16', '2x9 =18', '3x1 =3', '3x2 =6', '3x3 =9', '3x4 =12', '3x5 =15', '3x6 =18', '3x7 =21', '3x8 =24', '3x9 =27', '4x1 =4', '4x2 =8', '4x3 =12', '4x4 =16', '4x5 =20', '4x6 =24', '4x7 =28', '4x8 =32', '4x9 =36', '5x1 =5', '5x2 =10', '5x3 =15', '5x4 =20', '5x5 =25', '5x6 =30', '5x7 =35', '5x8 =40', '5x9 =45', '6x1 =6', '6x2 =12', '6x3 =18', '6x4 =24', '6x5 =30', '6x6 =36', '6x7 =42', '6x8 =48', '6x9 =54', '7x1 =7', '7x2 =14', '7x3 =21', '7x4 =28', '7x5 =35', '7x6 =42', '7x7 =49', '7x8 =56', '7x9 =63', '8x1 =8', '8x2 =16', '8x3 =24', '8x4 =32', '8x5 =40', '8x6 =48', '8x7 =56', '8x8 =64', '8x9 =72', '9x1 =9', '9x2 =18', '9x3 =27', '9x4 =36', '9x5 =45', '9x6 =54', '9x7 =63', '9x8 =72', '9x9 =81']\n"
     ]
    }
   ],
   "source": [
    "gugudan =['{}x{} ={}'.format(i,j,i*j) for i in range(1,10) for j in range(1,10)]\n",
    "print(gugudan)"
   ]
  },
  {
   "cell_type": "code",
   "execution_count": 108,
   "metadata": {},
   "outputs": [
    {
     "name": "stdout",
     "output_type": "stream",
     "text": [
      "1x1 =1\n",
      "1x2 =2\n",
      "1x3 =3\n",
      "1x4 =4\n",
      "1x5 =5\n",
      "1x6 =6\n",
      "1x7 =7\n",
      "1x8 =8\n",
      "1x9 =9\n",
      "\n",
      "2x1 =2\n",
      "2x2 =4\n",
      "2x3 =6\n",
      "2x4 =8\n",
      "2x5 =10\n",
      "2x6 =12\n",
      "2x7 =14\n",
      "2x8 =16\n",
      "2x9 =18\n",
      "\n",
      "3x1 =3\n",
      "3x2 =6\n",
      "3x3 =9\n",
      "3x4 =12\n",
      "3x5 =15\n",
      "3x6 =18\n",
      "3x7 =21\n",
      "3x8 =24\n",
      "3x9 =27\n",
      "\n",
      "4x1 =4\n",
      "4x2 =8\n",
      "4x3 =12\n",
      "4x4 =16\n",
      "4x5 =20\n",
      "4x6 =24\n",
      "4x7 =28\n",
      "4x8 =32\n",
      "4x9 =36\n",
      "\n",
      "5x1 =5\n",
      "5x2 =10\n",
      "5x3 =15\n",
      "5x4 =20\n",
      "5x5 =25\n",
      "5x6 =30\n",
      "5x7 =35\n",
      "5x8 =40\n",
      "5x9 =45\n",
      "\n",
      "6x1 =6\n",
      "6x2 =12\n",
      "6x3 =18\n",
      "6x4 =24\n",
      "6x5 =30\n",
      "6x6 =36\n",
      "6x7 =42\n",
      "6x8 =48\n",
      "6x9 =54\n",
      "\n",
      "7x1 =7\n",
      "7x2 =14\n",
      "7x3 =21\n",
      "7x4 =28\n",
      "7x5 =35\n",
      "7x6 =42\n",
      "7x7 =49\n",
      "7x8 =56\n",
      "7x9 =63\n",
      "\n",
      "8x1 =8\n",
      "8x2 =16\n",
      "8x3 =24\n",
      "8x4 =32\n",
      "8x5 =40\n",
      "8x6 =48\n",
      "8x7 =56\n",
      "8x8 =64\n",
      "8x9 =72\n",
      "\n",
      "9x1 =9\n",
      "9x2 =18\n",
      "9x3 =27\n",
      "9x4 =36\n",
      "9x5 =45\n",
      "9x6 =54\n",
      "9x7 =63\n",
      "9x8 =72\n",
      "9x9 =81\n",
      "\n"
     ]
    }
   ],
   "source": [
    "for gugudan4 in gugudan:\n",
    "    print(gugudan4)\n",
    "    if gugudan4[ 2 ] == '9':\n",
    "        print( )"
   ]
  },
  {
   "cell_type": "code",
   "execution_count": 111,
   "metadata": {},
   "outputs": [],
   "source": [
    "def what_fruit(color):\n",
    "    if color == 'red':\n",
    "        return 'apple'\n",
    "    elif color == 'yellow':\n",
    "        return  'banana'\n",
    "    elif color == 'green':\n",
    "        return  'melon'\n",
    "    else:\n",
    "        return  'I don`t know'"
   ]
  },
  {
   "cell_type": "code",
   "execution_count": 118,
   "metadata": {},
   "outputs": [],
   "source": [
    "fruit_dict = {\n",
    "    'red' : 'apple',\n",
    "    'yellow' : 'banana',\n",
    "    'green' : 'melon',\n",
    "}\n",
    "def what_fruit2(color):\n",
    "    return fruit_dict.get(color, 'I don`t know')"
   ]
  },
  {
   "cell_type": "code",
   "execution_count": 129,
   "metadata": {},
   "outputs": [
    {
     "data": {
      "text/plain": [
       "'I don`t khow'"
      ]
     },
     "execution_count": 129,
     "metadata": {},
     "output_type": "execute_result"
    }
   ],
   "source": [
    "fruit_dict.get('white', 'I don`t khow')"
   ]
  },
  {
   "cell_type": "code",
   "execution_count": 131,
   "metadata": {},
   "outputs": [],
   "source": [
    "def what_fruit2(color):\n",
    "    \"\"\"\n",
    "    색상 문자열을 받아 해당하는 과일 문자열을 돌려주는 함수\n",
    "    @color: 색상 문자열\n",
    "    return 과일 문자열\n",
    "    \"\"\"\n",
    "    return fruit_dict.get(color, 'I don`t know')"
   ]
  },
  {
   "cell_type": "code",
   "execution_count": 134,
   "metadata": {},
   "outputs": [],
   "source": [
    "def square(*args):\n",
    "    if len(args) == 1:\n",
    "        return args[0]**2\n",
    "    else:\n",
    "        return args[0]*args[1]"
   ]
  },
  {
   "cell_type": "code",
   "execution_count": 137,
   "metadata": {},
   "outputs": [
    {
     "data": {
      "text/plain": [
       "36"
      ]
     },
     "execution_count": 137,
     "metadata": {},
     "output_type": "execute_result"
    }
   ],
   "source": [
    "square(6)"
   ]
  }
 ],
 "metadata": {
  "kernelspec": {
   "display_name": "Python 3",
   "language": "python",
   "name": "python3"
  },
  "language_info": {
   "codemirror_mode": {
    "name": "ipython",
    "version": 3
   },
   "file_extension": ".py",
   "mimetype": "text/x-python",
   "name": "python",
   "nbconvert_exporter": "python",
   "pygments_lexer": "ipython3",
   "version": "3.6.5"
  }
 },
 "nbformat": 4,
 "nbformat_minor": 2
}
