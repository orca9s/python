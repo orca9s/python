{
 "cells": [
  {
   "cell_type": "code",
   "execution_count": 1,
   "metadata": {},
   "outputs": [],
   "source": [
    "class Library:\n",
    "    def __init__(self, name, book_list = 5):\n",
    "        self.name = name\n",
    "        self.book_list = book_list\n",
    "    def add_book(self,user):\n",
    "        self.book_list +=1\n",
    "        user.book_list -=1\n",
    "        print('책이 반납 되었습니다.\\n현재 보유중인 책 수량: {}\\n고객의 미반납 수량: {}' .format(self.book_list, user.book_list))\n",
    "        \n",
    "    def remove_book(self, user):\n",
    "        self.book_list -=1\n",
    "        user.book_list +=1\n",
    "        print('책이 대출 되었습니다.\\n현재 보유중인 책 수량: {}\\n고객의 대출 수량 :{}'.format(self.book_list, user.book_list))\n",
    "    \n",
    "    def show_info(self):\n",
    "        return print('도서관이름:{}\\n대출중인 책 수량:{}\\n도서관에서 보유중인 수량:{}'.format(self.name, 5-self.book_list, self.book_list))\n",
    "\n",
    "class Book:\n",
    "    def __init__(self, title, location):\n",
    "        self.title = title\n",
    "        self.location = location\n",
    "        \n",
    "class User:\n",
    "    def __init__(self, name_user, book_list = 5):\n",
    "        self.name_user = name_user\n",
    "        self.book_list = book_list\n",
    "    def borrow_book(self, library):\n",
    "        self.book_list +=1\n",
    "        library.book_list -=1\n",
    "        print('책을1권 반납했습니다.\\n나의 보유 수량: {}\\n도서관 보유 수량:{}.'.format( self.book_list, library.book_list))"
   ]
  },
  {
   "cell_type": "code",
   "execution_count": 2,
   "metadata": {},
   "outputs": [],
   "source": [
    "A = Library('강남구립도서관')"
   ]
  },
  {
   "cell_type": "code",
   "execution_count": 3,
   "metadata": {},
   "outputs": [],
   "source": [
    "me = User('전상민')"
   ]
  },
  {
   "cell_type": "code",
   "execution_count": 8,
   "metadata": {},
   "outputs": [
    {
     "name": "stdout",
     "output_type": "stream",
     "text": [
      "책이 반납 되었습니다.\n",
      "현재 보유중인 책 수량: 5\n",
      "고객의 미반납 수량: 5\n"
     ]
    }
   ],
   "source": [
    "A.add_book(me)"
   ]
  },
  {
   "cell_type": "code",
   "execution_count": 9,
   "metadata": {},
   "outputs": [
    {
     "name": "stdout",
     "output_type": "stream",
     "text": [
      "책이 대출 되었습니다.\n",
      "현재 보유중인 책 수량: 4\n",
      "고객의 대출 수량 :6\n"
     ]
    }
   ],
   "source": [
    "A.remove_book(me)"
   ]
  },
  {
   "cell_type": "code",
   "execution_count": 10,
   "metadata": {},
   "outputs": [
    {
     "name": "stdout",
     "output_type": "stream",
     "text": [
      "도서관이름:강남구립도서관\n",
      "대출중인 책 수량:1\n",
      "도서관에서 보유중인 수량:4\n"
     ]
    }
   ],
   "source": [
    "A.show_info()"
   ]
  },
  {
   "cell_type": "code",
   "execution_count": 11,
   "metadata": {},
   "outputs": [
    {
     "name": "stdout",
     "output_type": "stream",
     "text": [
      "책을1권 반납했습니다.\n",
      "나의 보유 수량: 7\n",
      "도서관 보유 수량:3.\n"
     ]
    }
   ],
   "source": [
    "me.borrow_book(A)"
   ]
  }
 ],
 "metadata": {
  "kernelspec": {
   "display_name": "Python 3",
   "language": "python",
   "name": "python3"
  },
  "language_info": {
   "codemirror_mode": {
    "name": "ipython",
    "version": 3
   },
   "file_extension": ".py",
   "mimetype": "text/x-python",
   "name": "python",
   "nbconvert_exporter": "python",
   "pygments_lexer": "ipython3",
   "version": "3.6.5"
  }
 },
 "nbformat": 4,
 "nbformat_minor": 2
}
