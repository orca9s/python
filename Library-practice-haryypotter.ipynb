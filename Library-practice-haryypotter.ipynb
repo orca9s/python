{
 "cells": [
  {
   "cell_type": "code",
   "execution_count": 1,
   "metadata": {},
   "outputs": [],
   "source": [
    " class Library:\n",
    "        def __init__(self, name, book_list):\n",
    "            self.name = name\n",
    "            self.book_list = book_list\n",
    "        def add_book(self, title):\n",
    "            new_book = Book(title, self)\n",
    "            self.book_list.append(new_book)\n",
    "            print('{}에 책({})이 추가되었습니다.'.format(self.name, title))\n",
    "            \n",
    "        def remove_book(self):\n",
    "            pass\n",
    "        \n",
    "        @property\n",
    "        def info(self):\n",
    "            return (\n",
    "                '{name}\\n'\n",
    "                '보유중인 도서 수: {num_books}권\\n'\n",
    "                '도서목록\\n'\n",
    "                '{book_list_str}'.format(\n",
    "                    name = self.name,\n",
    "                    num_books = len(self.book_list),\n",
    "                    book_list_str = '\\n'.join([f'    -{book.title}' for book in self.book_list])\n",
    "                )\n",
    "            )\n",
    "        \n",
    "class Book:\n",
    "    def __init__(self, title, location):\n",
    "        self.title = title\n",
    "        self.location = location\n",
    "        \n",
    "        \n",
    "    @property\n",
    "    def is_borrowed(self):\n",
    "        return isinstance(self, location, User)\n",
    "    \n",
    "class User:\n",
    "    def __init__(self, name, book_list):\n",
    "        self.name = name\n",
    "        self.book_list = book_list\n",
    "    def borrow_book(self, library, book_name):\n",
    "        for book in library.book_list:\n",
    "            if book_name == book.title:\n",
    "                self.book_list.append(book)\n",
    "                library.book_list.remove(book)\n",
    "                print(f'\"{book_name}\"을 {library.name}에서 빌렸습니다.')\n",
    "                break\n",
    "        else:\n",
    "            print(f'{library.name}에는 {book_name}이 없습니다.')\n",
    "        print('-책 빌리기 함수 완료')\n",
    "        \n",
    "    def return_book(self, library, book_name):\n",
    "        pass\n",
    "    \n",
    "    @property\n",
    "    def info(self):\n",
    "        return(\n",
    "            '{name}\\n'\n",
    "            '빌린 도서 수: {num_books}권\\n'\n",
    "            '도서목록\\n'\n",
    "            '{book_list_str}'.format(\n",
    "                name = self.name,\n",
    "                num_books = len(self.book_list),\n",
    "                book_list_str = '\\n'.join([f'    -{book.title}' for book in self.book_list])\n",
    "            )\n",
    "        )"
   ]
  },
  {
   "cell_type": "code",
   "execution_count": 2,
   "metadata": {},
   "outputs": [],
   "source": [
    "place = Library('강남구립도서관', [])"
   ]
  },
  {
   "cell_type": "code",
   "execution_count": 9,
   "metadata": {},
   "outputs": [
    {
     "name": "stdout",
     "output_type": "stream",
     "text": [
      "강남구립도서관에 책(해리포터와 마법사의 돌)이 추가되었습니다.\n",
      "강남구립도서관에 책(해리포터와 비밀의 방)이 추가되었습니다.\n",
      "강남구립도서관에 책(해리포터와 아즈카반의 죄수)이 추가되었습니다.\n",
      "강남구립도서관에 책(해리포터와 불의잔)이 추가되었습니다.\n",
      "강남구립도서관에 책(해리포터와 불사조기사단)이 추가되었습니다.\n",
      "강남구립도서관에 책(해리포터와 혼혈왕자)이 추가되었습니다.\n",
      "강남구립도서관에 책(해리포터와 죽음의 성물)이 추가되었습니다.\n"
     ]
    }
   ],
   "source": [
    "place.add_book('해리포터와 마법사의 돌')\n",
    "place.add_book('해리포터와 비밀의 방')\n",
    "place.add_book('해리포터와 아즈카반의 죄수')\n",
    "place.add_book('해리포터와 불의잔')\n",
    "place.add_book('해리포터와 불사조기사단')\n",
    "place.add_book('해리포터와 혼혈왕자')\n",
    "place.add_book('해리포터와 죽음의 성물')"
   ]
  },
  {
   "cell_type": "code",
   "execution_count": 10,
   "metadata": {},
   "outputs": [
    {
     "name": "stdout",
     "output_type": "stream",
     "text": [
      "강남구립도서관\n",
      "보유중인 도서 수: 8권\n",
      "도서목록\n",
      "    -해리포터와 마법사의 돌\n",
      "    -해리포터와 마법사의 돌\n",
      "    -해리포터와 비밀의 방\n",
      "    -해리포터와 아즈카반의 죄수\n",
      "    -해리포터와 불의잔\n",
      "    -해리포터와 불사조기사단\n",
      "    -해리포터와 혼혈왕자\n",
      "    -해리포터와 죽음의 성물\n"
     ]
    }
   ],
   "source": [
    "print(place.info)"
   ]
  },
  {
   "cell_type": "code",
   "execution_count": 11,
   "metadata": {},
   "outputs": [],
   "source": [
    "jsm = User('전상민', [])"
   ]
  },
  {
   "cell_type": "code",
   "execution_count": 16,
   "metadata": {},
   "outputs": [
    {
     "name": "stdout",
     "output_type": "stream",
     "text": [
      "\"해리포터와 아즈카반의 죄수\"을 강남구립도서관에서 빌렸습니다.\n",
      "-책 빌리기 함수 완료\n"
     ]
    }
   ],
   "source": [
    "jsm.borrow_book(place, '해리포터와 아즈카반의 죄수')"
   ]
  },
  {
   "cell_type": "code",
   "execution_count": 17,
   "metadata": {},
   "outputs": [
    {
     "name": "stdout",
     "output_type": "stream",
     "text": [
      "전상민\n",
      "빌린 도서 수: 2권\n",
      "도서목록\n",
      "    -해리포터와 비밀의 방\n",
      "    -해리포터와 아즈카반의 죄수\n"
     ]
    }
   ],
   "source": [
    "print(jsm.info)"
   ]
  }
 ],
 "metadata": {
  "kernelspec": {
   "display_name": "Python 3",
   "language": "python",
   "name": "python3"
  },
  "language_info": {
   "codemirror_mode": {
    "name": "ipython",
    "version": 3
   },
   "file_extension": ".py",
   "mimetype": "text/x-python",
   "name": "python",
   "nbconvert_exporter": "python",
   "pygments_lexer": "ipython3",
   "version": "3.6.5"
  }
 },
 "nbformat": 4,
 "nbformat_minor": 2
}
