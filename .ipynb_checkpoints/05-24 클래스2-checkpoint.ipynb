{
 "cells": [
  {
   "cell_type": "code",
   "execution_count": 1,
   "metadata": {},
   "outputs": [],
   "source": [
    "class Shop:\n",
    "    def __init__(self, name, shop_type, addr):\n",
    "        self.name = name\n",
    "        self._shop_type = shop_type\n",
    "        self.addr = addr\n",
    "        #info 프로퍼티를 정의하고\n",
    "        #리턴하는 내용은 아래의 show_info가 출력하는 문자열\n",
    "    \n",
    "    @property\n",
    "    def info(self):\n",
    "        return '상점정보:{} \\n유형:{} \\n주소:{}'.format(self.name, self._shop_type, self.addr)\n",
    "    \n",
    "    def show_info(self):\n",
    "        print(self.info)\n",
    "        # 인스턴스의 shop_type속성을 새로 주어진 new매개변수에  전달된 값으로 변경\n",
    "        \n",
    "    def change_type(self, new):\n",
    "        self._shop_type = new\n",
    "        \n",
    "        #getter방식\n",
    "        \n",
    "    def get_shop_type(self):\n",
    "        return self._shop_type\n",
    "    \n",
    "    #metter방식\n",
    "    \n",
    "    def set_shop_type(self, new):\n",
    "        shop_type_list = ['레스토랑', '패스트푸드']\n",
    "        if new in shop_type_list:\n",
    "            self._shop_type = new\n",
    "        else:\n",
    "            print(f'입력하신 유형({new})은 사용할 수 없습니다')\n",
    "    \n",
    "    @property\n",
    "    def shop_type(self):\n",
    "        return self._shop_type\n",
    "    \n",
    "    @shop_type.setter\n",
    "    def shop_type(self, new):\n",
    "        self._shop_type = new\n",
    "        print('Set new name ({})'.format(self._shop_type))\n",
    "        "
   ]
  },
  {
   "cell_type": "code",
   "execution_count": 2,
   "metadata": {},
   "outputs": [],
   "source": [
    "class Restaurant(Shop):\n",
    "    def __init__(self, name, shop_type, addr, rating):\n",
    "        super().__init__(name, shop_type, addr)\n",
    "        self.rating = rating\n",
    "    @property\n",
    "    def show_info(self):\n",
    "        print('식당정보: ({})'.format(self.name))\n",
    "        print('유형: {}'.format(self._shop_type))\n",
    "        print('주소: {}'.format(self.addr))"
   ]
  },
  {
   "cell_type": "code",
   "execution_count": 3,
   "metadata": {},
   "outputs": [],
   "source": [
    "lotteria = Shop('롯데리아', '패스트푸드', '서울시 강남구')"
   ]
  },
  {
   "cell_type": "code",
   "execution_count": 4,
   "metadata": {},
   "outputs": [],
   "source": [
    "burgerking = Shop(addr= '서울시 강남구',  shop_type= '패스트푸드', name='버거킹')"
   ]
  },
  {
   "cell_type": "code",
   "execution_count": 5,
   "metadata": {},
   "outputs": [],
   "source": [
    "mcdonald = Shop(\"맥도날드\", '패스트푸드', '서울시 강남구')"
   ]
  },
  {
   "cell_type": "code",
   "execution_count": 6,
   "metadata": {},
   "outputs": [
    {
     "data": {
      "text/plain": [
       "'롯데리아'"
      ]
     },
     "execution_count": 6,
     "metadata": {},
     "output_type": "execute_result"
    }
   ],
   "source": [
    "lotteria.name"
   ]
  },
  {
   "cell_type": "code",
   "execution_count": 7,
   "metadata": {},
   "outputs": [
    {
     "data": {
      "text/plain": [
       "'상점정보:롯데리아 \\n유형:패스트푸드 \\n주소:서울시 강남구'"
      ]
     },
     "execution_count": 7,
     "metadata": {},
     "output_type": "execute_result"
    }
   ],
   "source": [
    "lotteria.info"
   ]
  },
  {
   "cell_type": "code",
   "execution_count": 8,
   "metadata": {},
   "outputs": [],
   "source": [
    "class Shop:\n",
    "    def __init__(self, name, shop_type):\n",
    "        self.name = name\n",
    "        self.type = shop_type\n",
    "        \n",
    "    def info(self):\n",
    "        return '{}에 있는{}'.format(self.type, self.name)"
   ]
  },
  {
   "cell_type": "code",
   "execution_count": 9,
   "metadata": {},
   "outputs": [
    {
     "name": "stdout",
     "output_type": "stream",
     "text": [
      "성수역에 있는cu\n",
      "성수역에 있는gs25\n"
     ]
    }
   ],
   "source": [
    "cu = Shop('cu', '성수역')\n",
    "gs25 = Shop('gs25', '성수역')\n",
    "print(cu.info())\n",
    "print(gs25.info())"
   ]
  },
  {
   "cell_type": "code",
   "execution_count": 10,
   "metadata": {},
   "outputs": [
    {
     "name": "stdout",
     "output_type": "stream",
     "text": [
      "상점정보:롯데리아 \n",
      "유형:패스트푸드 \n",
      "주소:서울시 강남구\n"
     ]
    }
   ],
   "source": [
    "lotteria.show_info()"
   ]
  },
  {
   "cell_type": "code",
   "execution_count": 11,
   "metadata": {},
   "outputs": [],
   "source": [
    "class Product:\n",
    "    def __init__(self, name, original_price, discount):\n",
    "        self.name = name\n",
    "        self.original_price = original_price\n",
    "        self.discount = discount\n",
    "    @property\n",
    "    def price(self):\n",
    "        return int(iphone.original_price * (iphone.discount/100))"
   ]
  },
  {
   "cell_type": "code",
   "execution_count": 12,
   "metadata": {},
   "outputs": [],
   "source": [
    "iphone = Product('아이폰 x', 1000000,30)"
   ]
  },
  {
   "cell_type": "code",
   "execution_count": 13,
   "metadata": {},
   "outputs": [
    {
     "data": {
      "text/plain": [
       "300000.0"
      ]
     },
     "execution_count": 13,
     "metadata": {},
     "output_type": "execute_result"
    }
   ],
   "source": [
    "iphone.original_price * (iphone.discount/100)"
   ]
  },
  {
   "cell_type": "code",
   "execution_count": 15,
   "metadata": {},
   "outputs": [
    {
     "data": {
      "text/plain": [
       "300000"
      ]
     },
     "execution_count": 15,
     "metadata": {},
     "output_type": "execute_result"
    }
   ],
   "source": [
    "iphone.price"
   ]
  },
  {
   "cell_type": "code",
   "execution_count": null,
   "metadata": {},
   "outputs": [],
   "source": [
    "import random\n",
    "\n",
    "class Pokemon:\n",
    "    def __init__(self, name, type):\n",
    "        self.name = name\n",
    "        self.type = type"
   ]
  }
 ],
 "metadata": {
  "kernelspec": {
   "display_name": "Python 3",
   "language": "python",
   "name": "python3"
  },
  "language_info": {
   "codemirror_mode": {
    "name": "ipython",
    "version": 3
   },
   "file_extension": ".py",
   "mimetype": "text/x-python",
   "name": "python",
   "nbconvert_exporter": "python",
   "pygments_lexer": "ipython3",
   "version": "3.6.5"
  }
 },
 "nbformat": 4,
 "nbformat_minor": 2
}
