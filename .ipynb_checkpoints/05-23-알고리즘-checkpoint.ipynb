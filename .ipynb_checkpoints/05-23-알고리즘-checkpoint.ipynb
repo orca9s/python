{
 "cells": [
  {
   "cell_type": "code",
   "execution_count": 2,
   "metadata": {},
   "outputs": [],
   "source": [
    "def sequential_search2(string, key):\n",
    "    index = 0\n",
    "    for char in string:\n",
    "        print(char)\n",
    "        if char == key:\n",
    "            print('찾는값이 나왔음, index:', index)\n",
    "            return index\n",
    "        index += 1"
   ]
  },
  {
   "cell_type": "code",
   "execution_count": 4,
   "metadata": {},
   "outputs": [
    {
     "name": "stdout",
     "output_type": "stream",
     "text": [
      "h\n",
      "e\n",
      "l\n",
      "찾는값이 나왔음, index: 2\n"
     ]
    },
    {
     "data": {
      "text/plain": [
       "2"
      ]
     },
     "execution_count": 4,
     "metadata": {},
     "output_type": "execute_result"
    }
   ],
   "source": [
    "sequential_search2('hello', 'l')"
   ]
  },
  {
   "cell_type": "code",
   "execution_count": 10,
   "metadata": {},
   "outputs": [],
   "source": [
    "def sequential_search1(string, key):\n",
    "    for index, char in enumerate(string):\n",
    "        if char == key:\n",
    "            return index\n",
    "    return -1"
   ]
  },
  {
   "cell_type": "code",
   "execution_count": 12,
   "metadata": {},
   "outputs": [
    {
     "data": {
      "text/plain": [
       "4"
      ]
     },
     "execution_count": 12,
     "metadata": {},
     "output_type": "execute_result"
    }
   ],
   "source": [
    "sequential_search1('hello', 'o')"
   ]
  },
  {
   "cell_type": "code",
   "execution_count": 18,
   "metadata": {},
   "outputs": [],
   "source": [
    "def sequtial_search3(string, key):\n",
    "    index = 0\n",
    "#     5글자 문자열\n",
    "#            length: 5\n",
    "#     최대 index: 4\n",
    "    while index < len(string):\n",
    "        char = string[index]\n",
    "        print(f'index: {index}, 현재문자: {char}')\n",
    "        if char == key:\n",
    "            print('찾았음')\n",
    "            return index\n",
    "        index +=1"
   ]
  },
  {
   "cell_type": "code",
   "execution_count": 22,
   "metadata": {},
   "outputs": [
    {
     "name": "stdout",
     "output_type": "stream",
     "text": [
      "index: 0, 현재문자: h\n",
      "index: 1, 현재문자: e\n",
      "index: 2, 현재문자: l\n",
      "index: 3, 현재문자: l\n",
      "index: 4, 현재문자: o\n",
      "찾았음\n"
     ]
    },
    {
     "data": {
      "text/plain": [
       "4"
      ]
     },
     "execution_count": 22,
     "metadata": {},
     "output_type": "execute_result"
    }
   ],
   "source": [
    "sequtial_search3('hello', 'o')"
   ]
  },
  {
   "cell_type": "code",
   "execution_count": 25,
   "metadata": {},
   "outputs": [],
   "source": [
    "# for문을 사용해서\n",
    "# 0번째 loop ->총8개의 숫자 표시\n",
    "# 1번째 loop ->0번째를 제외하고 1~7번까지의 숫자 표시\n",
    "# 2번째 loop -> 2~7번째 까지 숫자 표시\n",
    "#----------------\n",
    "#6번째 loop -> 6~7번째 까지 숫자 표시\n",
    "\n",
    "# 정리\n",
    "# 1번째 루프에서 비교할 수(최소값을 찾기 위해 순회해야하는 수 )는 전체\n",
    "#1번째 루프에서 비교할 수는 전체 -1\n",
    "#2번째 루프에서 비교할 수는 전체 -2\n",
    "#3번째 루프에서 비교할 수는 전체 -3\n",
    "#7번째 루프에서 비교할 수는 전체 -7개"
   ]
  },
  {
   "cell_type": "code",
   "execution_count": 27,
   "metadata": {},
   "outputs": [],
   "source": [
    "ori = [9,1,6,8,4,3,2,0]"
   ]
  },
  {
   "cell_type": "code",
   "execution_count": 36,
   "metadata": {},
   "outputs": [
    {
     "name": "stdout",
     "output_type": "stream",
     "text": [
      "[9, 1, 6, 8, 4, 3, 2, 0]\n",
      "[1, 6, 8, 4, 3, 2, 0]\n",
      "[6, 8, 4, 3, 2, 0]\n",
      "[8, 4, 3, 2, 0]\n",
      "[4, 3, 2, 0]\n"
     ]
    }
   ],
   "source": [
    "print(ori)\n",
    "print(ori[1:])\n",
    "print(ori[2:])\n",
    "print(ori[3:])\n",
    "print(ori[4:])\n",
    "\n",
    "        "
   ]
  },
  {
   "cell_type": "code",
   "execution_count": 68,
   "metadata": {},
   "outputs": [
    {
     "name": "stdout",
     "output_type": "stream",
     "text": [
      "[9, 1, 6, 8, 4, 3, 2, 0]\n",
      "최소: 1\n",
      "최소: 0\n",
      "[1, 6, 8, 4, 3, 2, 0]\n",
      "최소: 0\n",
      "[6, 8, 4, 3, 2, 0]\n",
      "최소: 4\n",
      "최소: 3\n",
      "최소: 2\n",
      "최소: 0\n",
      "[8, 4, 3, 2, 0]\n",
      "최소: 4\n",
      "최소: 3\n",
      "최소: 2\n",
      "최소: 0\n",
      "[4, 3, 2, 0]\n",
      "최소: 3\n",
      "최소: 2\n",
      "최소: 0\n",
      "[3, 2, 0]\n",
      "최소: 2\n",
      "최소: 0\n",
      "[2, 0]\n",
      "최소: 0\n",
      "[0]\n"
     ]
    }
   ],
   "source": [
    "for i in range(len(ori)):\n",
    "    print(ori[i:])\n",
    "    # 현재 루프의 첫 번째 값을 최소값으로 지정\n",
    "    min = ori[i]\n",
    "    #ori의 1번째 부터 끝까지 를 순회함\n",
    "    for x in ori[i:]:\n",
    "        if x < min:\n",
    "            min = x\n",
    "            print('최소:', min)"
   ]
  },
  {
   "cell_type": "code",
   "execution_count": 84,
   "metadata": {},
   "outputs": [
    {
     "name": "stdout",
     "output_type": "stream",
     "text": [
      "[0, 1, 2, 3, 4, 6, 8, 9]\n"
     ]
    }
   ],
   "source": [
    "ori_length = len(ori)\n",
    "for i in range(ori_length - 1):\n",
    "    min_index=i\n",
    "    for inner_index in range (i, ori_length):\n",
    "        if ori[inner_index] < ori[min_index]:\n",
    "            min_index = inner_index\n",
    "    if min_index != i :\n",
    "        ori[i], ori[min_index] = ori[min_index], ori[i]\n",
    "print(ori)"
   ]
  },
  {
   "cell_type": "code",
   "execution_count": 50,
   "metadata": {},
   "outputs": [],
   "source": [
    "ori2 = [2, 4, 3, 1, 6, 0, -3,-5, 8, 9]"
   ]
  },
  {
   "cell_type": "code",
   "execution_count": 53,
   "metadata": {},
   "outputs": [
    {
     "name": "stdout",
     "output_type": "stream",
     "text": [
      "현재 숫자는: 2\n",
      "최소: 2\n",
      "현재 숫자는: 4\n",
      "최소: 2\n",
      "현재 숫자는: 3\n",
      "최소: 2\n",
      "현재 숫자는: 1\n",
      "최소: 1\n",
      "현재 숫자는: 6\n",
      "최소: 1\n",
      "현재 숫자는: 0\n",
      "최소: 0\n",
      "현재 숫자는: -3\n",
      "최소: -3\n",
      "현재 숫자는: -5\n",
      "최소: -5\n",
      "현재 숫자는: 8\n",
      "최소: -5\n",
      "현재 숫자는: 9\n",
      "최소: -5\n"
     ]
    }
   ],
   "source": [
    "min = ori2[0]\n",
    "for x in ori2:\n",
    "    if x < min:\n",
    "        min = x\n",
    "    print('현재 숫자는:', x)\n",
    "    print('최소:', min)"
   ]
  }
 ],
 "metadata": {
  "kernelspec": {
   "display_name": "Python 3",
   "language": "python",
   "name": "python3"
  },
  "language_info": {
   "codemirror_mode": {
    "name": "ipython",
    "version": 3
   },
   "file_extension": ".py",
   "mimetype": "text/x-python",
   "name": "python",
   "nbconvert_exporter": "python",
   "pygments_lexer": "ipython3",
   "version": "3.6.5"
  }
 },
 "nbformat": 4,
 "nbformat_minor": 2
}
