{
 "cells": [
  {
   "cell_type": "code",
   "execution_count": 1,
   "metadata": {},
   "outputs": [],
   "source": [
    "story = '''Born to the prestigious Crownguards, the paragon family of Demacian service, Luxanna was destined for greatness. She grew up as the family's only daughter, and she immediately took to the advanced education and lavish parties required of families as high profile as the Crownguards. As Lux matured, it became clear that she was extraordinarily gifted. She could play tricks that made people believe they had seen things that did not actually exist. She could also hide in plain sight. Somehow, she was able to reverse engineer arcane magical spells after seeing them cast only once. She was hailed as a prodigy, drawing the affections of the Demacian government, military, and citizens alike.\n",
    "\n",
    "As one of the youngest women to be tested by the College of Magic, she was discovered to possess a unique command over the powers of light. The young Lux viewed this as a great gift, something for her to embrace and use in the name of good. Realizing her unique skills, the Demacian military recruited and trained her in covert operations. She quickly became renowned for her daring achievements; the most dangerous of which found her deep in the chambers of the Noxian High Command. She extracted valuable inside information about the Noxus-Ionian conflict, earning her great favor with Demacians and Ionians alike. However, reconnaissance and surveillance was not for her. A light of her people, Lux's true calling was the League of Legends, where she could follow in her brother's footsteps and unleash her gifts as an inspiration for all of Demacia.'''\n"
   ]
  },
  {
   "cell_type": "code",
   "execution_count": 2,
   "metadata": {},
   "outputs": [
    {
     "data": {
      "text/plain": [
       "['also', 'able']"
      ]
     },
     "execution_count": 2,
     "metadata": {},
     "output_type": "execute_result"
    }
   ],
   "source": [
    "import re\n",
    "re.findall(r'\\ba\\w{3}\\b', story)"
   ]
  },
  {
   "cell_type": "code",
   "execution_count": 3,
   "metadata": {},
   "outputs": [
    {
     "name": "stdout",
     "output_type": "stream",
     "text": [
      "['for', 'daughter', 'clear', 'engineer', 'after', 'over', 'for', 'her', 'her', 'her', 'for', 'her', 'her', 'her', 'favor', 'However', 'for', 'her', 'her', 'her', 'brother', 'her', 'for']\n"
     ]
    }
   ],
   "source": [
    "m = re.findall(r'\\w*r\\b',story)\n",
    "print(m)"
   ]
  },
  {
   "cell_type": "code",
   "execution_count": 4,
   "metadata": {},
   "outputs": [
    {
     "name": "stdout",
     "output_type": "stream",
     "text": [
      "['advanced', 'became', 'made', 'embrace', 'became', 'deep']\n"
     ]
    }
   ],
   "source": [
    "m = re.findall(r'\\w*[abcde][abcde][abcde]\\w*',story)\n",
    "print(m)"
   ]
  },
  {
   "cell_type": "code",
   "execution_count": 32,
   "metadata": {},
   "outputs": [
    {
     "name": "stdout",
     "output_type": "stream",
     "text": [
      "[('Crownguards', 'the'), ('service', 'Luxanna'), ('daughter', 'and'), ('matured', 'it'), ('Somehow', 'she'), ('prodigy', 'drawing'), ('government', 'military'), ('Magic', 'she'), ('gift', 'something'), ('skills', 'the'), ('conflict', 'earning'), ('However', 'reconnaissance'), ('people', 'Lux'), ('Legends', 'where')]\n"
     ]
    }
   ],
   "source": [
    "m = re.findall(r'(\\w+)\\s*,\\s*(\\w+)',story)\n",
    "print(m)"
   ]
  },
  {
   "cell_type": "code",
   "execution_count": 63,
   "metadata": {
    "scrolled": true
   },
   "outputs": [
    {
     "data": {
      "text/plain": [
       "\"Born to the prestigious CROWNGUARDS[the] paragon family of Demacian SERVICE[Luxanna] was destined for greatness. She grew up as the family's only DAUGHTER[and] she immediately took to the advanced education and lavish parties required of families as high profile as the Crownguards. As Lux MATURED[it] became clear that she was extraordinarily gifted. She could play tricks that made people believe they had seen things that did not actually exist. She could also hide in plain sight. SOMEHOW[she] was able to reverse engineer arcane magical spells after seeing them cast only once. She was hailed as a PRODIGY[drawing] the affections of the Demacian GOVERNMENT[military], and citizens alike.\\n\\nAs one of the youngest women to be tested by the College of MAGIC[she] was discovered to possess a unique command over the powers of light. The young Lux viewed this as a great GIFT[something] for her to embrace and use in the name of good. Realizing her unique SKILLS[the] Demacian military recruited and trained her in covert operations. She quickly became renowned for her daring achievements; the most dangerous of which found her deep in the chambers of the Noxian High Command. She extracted valuable inside information about the Noxus-Ionian CONFLICT[earning] her great favor with Demacians and Ionians alike. HOWEVER[reconnaissance] and surveillance was not for her. A light of her PEOPLE[Lux]'s true calling was the League of LEGENDS[where] she could follow in her brother's footsteps and unleash her gifts as an inspiration for all of Demacia.\""
      ]
     },
     "execution_count": 63,
     "metadata": {},
     "output_type": "execute_result"
    }
   ],
   "source": [
    "def rep1_function(m):\n",
    "    return ((m.group(1)).upper())+('[{}]'.format(m.group(2)))\n",
    "re.sub(r'(\\w+)\\s*,\\s*(\\w+)', rep1_function, story)"
   ]
  },
  {
   "cell_type": "code",
   "execution_count": null,
   "metadata": {},
   "outputs": [],
   "source": [
    "def rep1_function(m):\n",
    "    return ((m.group(1)).upper())+('[{}]'.format(m.group(2)))\n",
    "re.sub(r'(\\w+)\\s*,\\s*(\\w+)', lambda m:((m.group(1)).upper())+('[{}]'.format(m.group(2))) , story) "
   ]
  }
 ],
 "metadata": {
  "kernelspec": {
   "display_name": "Python 3",
   "language": "python",
   "name": "python3"
  },
  "language_info": {
   "codemirror_mode": {
    "name": "ipython",
    "version": 3
   },
   "file_extension": ".py",
   "mimetype": "text/x-python",
   "name": "python",
   "nbconvert_exporter": "python",
   "pygments_lexer": "ipython3",
   "version": "3.6.5"
  }
 },
 "nbformat": 4,
 "nbformat_minor": 2
}
