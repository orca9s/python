{
 "cells": [
  {
   "cell_type": "code",
   "execution_count": 1,
   "metadata": {},
   "outputs": [
    {
     "name": "stdout",
     "output_type": "stream",
     "text": [
      "list index를 참조하려 했는데 오류가 났음\n",
      "try-except구문 끝\n"
     ]
    }
   ],
   "source": [
    "smaple_list = list('apple')\n",
    "try:\n",
    "    print(sample_list(5))\n",
    "    print('list index출력 완료')\n",
    "except:\n",
    "    print('list index를 참조하려 했는데 오류가 났음')\n",
    "        \n",
    "print('try-except구문 끝')"
   ]
  },
  {
   "cell_type": "code",
   "execution_count": 3,
   "metadata": {},
   "outputs": [
    {
     "ename": "NameError",
     "evalue": "name 'sample_list' is not defined",
     "output_type": "error",
     "traceback": [
      "\u001b[0;31m---------------------------------------------------------------------------\u001b[0m",
      "\u001b[0;31mNameError\u001b[0m                                 Traceback (most recent call last)",
      "\u001b[0;32m<ipython-input-3-dc282178d298>\u001b[0m in \u001b[0;36m<module>\u001b[0;34m()\u001b[0m\n\u001b[0;32m----> 1\u001b[0;31m \u001b[0msample_list\u001b[0m\u001b[0;34m(\u001b[0m\u001b[0;36m2\u001b[0m\u001b[0;34m)\u001b[0m\u001b[0;34m\u001b[0m\u001b[0m\n\u001b[0m",
      "\u001b[0;31mNameError\u001b[0m: name 'sample_list' is not defined"
     ]
    }
   ],
   "source": [
    "sample_list(2)"
   ]
  },
  {
   "cell_type": "code",
   "execution_count": 4,
   "metadata": {},
   "outputs": [],
   "source": [
    "a = 3"
   ]
  },
  {
   "cell_type": "code",
   "execution_count": 16,
   "metadata": {},
   "outputs": [
    {
     "name": "stdout",
     "output_type": "stream",
     "text": [
      "dict index를 참조하려 했는데 오류가 났음\n",
      "'orange'\n",
      "어쨋든 끝났음\n"
     ]
    }
   ],
   "source": [
    "sample_dict = {'red':'apple', 'yellow':'banana', 'green':'melon'}\n",
    "smaple_list = list('apple')\n",
    "try:\n",
    "    print(sample_dict['orange'])\n",
    "except IndexError as e:\n",
    "    print('list index를 참조하려 했는데 오류가 났음')\n",
    "    print(e)\n",
    "except KeyError as e:\n",
    "    print('dict index를 참조하려 했는데 오류가 났음')\n",
    "    print(e)\n",
    "    \n",
    "else:\n",
    "    print('예약이 잘 끝났음')\n",
    "    \n",
    "finally:\n",
    "    print('어쨋든 끝났음')\n",
    "    "
   ]
  },
  {
   "cell_type": "code",
   "execution_count": 17,
   "metadata": {},
   "outputs": [
    {
     "data": {
      "text/plain": [
       "{'red': 'apple', 'yellow': 'banana', 'green': 'melon'}"
      ]
     },
     "execution_count": 17,
     "metadata": {},
     "output_type": "execute_result"
    }
   ],
   "source": [
    "sample_dict"
   ]
  },
  {
   "cell_type": "code",
   "execution_count": 21,
   "metadata": {},
   "outputs": [],
   "source": [
    "def square(x):\n",
    "    if not isinstance(x, int):\n",
    "        raise ValueError('숫자가 전달되어야 합니다')\n",
    "    return x ** 2"
   ]
  },
  {
   "cell_type": "code",
   "execution_count": 25,
   "metadata": {},
   "outputs": [
    {
     "name": "stdout",
     "output_type": "stream",
     "text": [
      "숫자를 입력해주세요:fdsf\n",
      "숫자를 입력해주세요:0\n",
      "0\n"
     ]
    }
   ],
   "source": [
    "while True:\n",
    "    try:\n",
    "        value = input('숫자를 입력해주세요:')\n",
    "        if value.isdigit():\n",
    "            print(square(int(value)))\n",
    "            break\n",
    "    except ValueError as e:\n",
    "            print(e)"
   ]
  }
 ],
 "metadata": {
  "kernelspec": {
   "display_name": "Python 3",
   "language": "python",
   "name": "python3"
  },
  "language_info": {
   "codemirror_mode": {
    "name": "ipython",
    "version": 3
   },
   "file_extension": ".py",
   "mimetype": "text/x-python",
   "name": "python",
   "nbconvert_exporter": "python",
   "pygments_lexer": "ipython3",
   "version": "3.6.5"
  }
 },
 "nbformat": 4,
 "nbformat_minor": 2
}
