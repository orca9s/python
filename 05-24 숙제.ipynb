{
 "cells": [
  {
   "cell_type": "code",
   "execution_count": 1,
   "metadata": {},
   "outputs": [],
   "source": [
    "class User:\n",
    "    def __init__(self, name, food):\n",
    "        self.name = name\n",
    "        self.food = food\n",
    "    def give_food(self, give_food):\n",
    "        give_food.eat(self)\n",
    "    def __repr__(self):\n",
    "        return '호랑이 주인: {} \\n 남은 먹이: {}'.format(self.name, self.food)"
   ]
  },
  {
   "cell_type": "code",
   "execution_count": 2,
   "metadata": {},
   "outputs": [],
   "source": [
    "class FoodHuman:\n",
    "    def eat(self, user):\n",
    "        user.food-=1\n",
    "        \n",
    "class FoodTiger:\n",
    "    def eat(self, user):\n",
    "        user.satiety+=1"
   ]
  },
  {
   "cell_type": "code",
   "execution_count": 3,
   "metadata": {},
   "outputs": [],
   "source": [
    "class Tiger:\n",
    "    def __init__(self, name):\n",
    "        self.name = name\n",
    "        self.satiety = 0\n",
    "    def give_food(self, give_food):\n",
    "        give_food.eat(self)\n",
    "    def __repr__(self):\n",
    "        return '호랑이 이름: {}\\n 호랑이가 먹은 사람 수: {}'.format(self.name, self.satiety)"
   ]
  },
  {
   "cell_type": "code",
   "execution_count": 4,
   "metadata": {},
   "outputs": [],
   "source": [
    "jsm = User('jsm', 100)\n",
    "food = FoodHuman()"
   ]
  },
  {
   "cell_type": "code",
   "execution_count": 5,
   "metadata": {},
   "outputs": [],
   "source": [
    "jsm.give_food(food)\n",
    "jsm"
   ]
  },
  {
   "cell_type": "code",
   "execution_count": 6,
   "metadata": {},
   "outputs": [],
   "source": [
    "pipi = Tiger('pipi' )\n",
    "food2 = FoodTiger()"
   ]
  },
  {
   "cell_type": "code",
   "execution_count": 7,
   "metadata": {},
   "outputs": [],
   "source": [
    "pipi.give_food(food2)\n",
    "pipi"
   ]
  },
  {
   "cell_type": "code",
   "execution_count": 8,
   "metadata": {},
   "outputs": [],
   "source": [
    "class EatHuman:\n",
    "    def __init__(self):\n",
    "        self.__eat_limit = 100\n",
    "        self.eat_status = 0\n",
    "    def eat_food(self):\n",
    "        if self.eat_status< self.__eat_limit:\n",
    "            self.eat_status+=5\n",
    "            print('사람을 먹습니다 포만감:{}'.format(self.eat_status))\n",
    "        else:\n",
    "            print('배가 부릅니다. 포만감:{}'.format(self.eat_status))\n",
    "    @property\n",
    "    def eat_limit(self):\n",
    "        return __eat_limit\n",
    "    @eat_limit.setter\n",
    "    def eat_limit(self, new):\n",
    "        self.__eat_limit = new\n",
    "        print('포만감 변경: {}'.format(self.__eat_limit))"
   ]
  },
  {
   "cell_type": "code",
   "execution_count": 9,
   "metadata": {},
   "outputs": [],
   "source": [
    "jsm = EatHuman()"
   ]
  },
  {
   "cell_type": "code",
   "execution_count": 46,
   "metadata": {},
   "outputs": [
    {
     "name": "stdout",
     "output_type": "stream",
     "text": [
      "배가 부릅니다. 포만감:160\n"
     ]
    }
   ],
   "source": [
    "jsm.eat_food()"
   ]
  },
  {
   "cell_type": "code",
   "execution_count": 20,
   "metadata": {},
   "outputs": [
    {
     "name": "stdout",
     "output_type": "stream",
     "text": [
      "포만감 변경: 160\n"
     ]
    }
   ],
   "source": [
    "jsm.eat_limit = 160"
   ]
  }
 ],
 "metadata": {
  "kernelspec": {
   "display_name": "Python 3",
   "language": "python",
   "name": "python3"
  },
  "language_info": {
   "codemirror_mode": {
    "name": "ipython",
    "version": 3
   },
   "file_extension": ".py",
   "mimetype": "text/x-python",
   "name": "python",
   "nbconvert_exporter": "python",
   "pygments_lexer": "ipython3",
   "version": "3.6.5"
  }
 },
 "nbformat": 4,
 "nbformat_minor": 2
}
